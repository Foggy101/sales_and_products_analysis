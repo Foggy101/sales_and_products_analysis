{
 "cells": [
  {
   "cell_type": "markdown",
   "id": "421864c2-59a8-4292-a27f-315486a36d0a",
   "metadata": {
    "tags": []
   },
   "source": [
    "# ANALYSIS OF REVIEW SEMANTICS (<u>REVIEW ANALYTICS</u>)"
   ]
  },
  {
   "cell_type": "markdown",
   "id": "439d5641-2397-4b26-8783-0a1e7f4aa937",
   "metadata": {},
   "source": [
    "## <u>1. Preliminaries</u>"
   ]
  },
  {
   "cell_type": "markdown",
   "id": "33aa6a1c-d738-44e3-8bee-5b31dc55d41b",
   "metadata": {},
   "source": [
    "### 1.1 Importing packages"
   ]
  },
  {
   "cell_type": "code",
   "execution_count": 1,
   "id": "4dc0d960-5b17-4922-bcfe-e6291a7a9eb7",
   "metadata": {
    "tags": []
   },
   "outputs": [
    {
     "name": "stderr",
     "output_type": "stream",
     "text": [
      "G:\\PROGRAMOWANIE\\anaconda\\program\\lib\\site-packages\\pandas\\core\\computation\\expressions.py:21: UserWarning: Pandas requires version '2.8.4' or newer of 'numexpr' (version '2.7.3' currently installed).\n",
      "  from pandas.core.computation.check import NUMEXPR_INSTALLED\n",
      "G:\\PROGRAMOWANIE\\anaconda\\program\\lib\\site-packages\\pandas\\core\\arrays\\masked.py:60: UserWarning: Pandas requires version '1.3.6' or newer of 'bottleneck' (version '1.3.2' currently installed).\n",
      "  from pandas.core import (\n"
     ]
    }
   ],
   "source": [
    "#Import necessary packages\n",
    "import pandas as pd\n",
    "import matplotlib.pyplot as plt\n",
    "import re"
   ]
  },
  {
   "cell_type": "markdown",
   "id": "2f01ee73-c8e1-42d0-9b68-b9a9acdf538c",
   "metadata": {},
   "source": [
    "### 1.2 Loading data"
   ]
  },
  {
   "cell_type": "code",
   "execution_count": 2,
   "id": "2d1b54b4-2dc0-4f1d-b38c-42a593789ecb",
   "metadata": {},
   "outputs": [
    {
     "ename": "FileNotFoundError",
     "evalue": "[Errno 2] No such file or directory: 'products.csv'",
     "output_type": "error",
     "traceback": [
      "\u001b[1;31m---------------------------------------------------------------------------\u001b[0m",
      "\u001b[1;31mFileNotFoundError\u001b[0m                         Traceback (most recent call last)",
      "\u001b[1;32m~\\AppData\\Local\\Temp/ipykernel_11728/3839913835.py\u001b[0m in \u001b[0;36m<module>\u001b[1;34m\u001b[0m\n\u001b[0;32m      1\u001b[0m \u001b[1;31m#Load the data\u001b[0m\u001b[1;33m\u001b[0m\u001b[1;33m\u001b[0m\u001b[0m\n\u001b[1;32m----> 2\u001b[1;33m \u001b[0mdf_products\u001b[0m \u001b[1;33m=\u001b[0m \u001b[0mpd\u001b[0m\u001b[1;33m.\u001b[0m\u001b[0mread_csv\u001b[0m\u001b[1;33m(\u001b[0m\u001b[1;34m'products.csv'\u001b[0m\u001b[1;33m)\u001b[0m\u001b[1;33m\u001b[0m\u001b[1;33m\u001b[0m\u001b[0m\n\u001b[0m\u001b[0;32m      3\u001b[0m \u001b[0mdf_categories\u001b[0m \u001b[1;33m=\u001b[0m \u001b[0mpd\u001b[0m\u001b[1;33m.\u001b[0m\u001b[0mread_csv\u001b[0m\u001b[1;33m(\u001b[0m\u001b[1;34m'product_category_name_translation.csv'\u001b[0m\u001b[1;33m)\u001b[0m\u001b[1;33m\u001b[0m\u001b[1;33m\u001b[0m\u001b[0m\n\u001b[0;32m      4\u001b[0m \u001b[0mdf_order_items\u001b[0m \u001b[1;33m=\u001b[0m \u001b[0mpd\u001b[0m\u001b[1;33m.\u001b[0m\u001b[0mread_csv\u001b[0m\u001b[1;33m(\u001b[0m\u001b[1;34m'order_items.csv'\u001b[0m\u001b[1;33m)\u001b[0m\u001b[1;33m\u001b[0m\u001b[1;33m\u001b[0m\u001b[0m\n\u001b[0;32m      5\u001b[0m \u001b[0mdf_orders\u001b[0m \u001b[1;33m=\u001b[0m \u001b[0mpd\u001b[0m\u001b[1;33m.\u001b[0m\u001b[0mread_csv\u001b[0m\u001b[1;33m(\u001b[0m\u001b[1;34m'orders.csv'\u001b[0m\u001b[1;33m)\u001b[0m\u001b[1;33m\u001b[0m\u001b[1;33m\u001b[0m\u001b[0m\n",
      "\u001b[1;32mG:\\PROGRAMOWANIE\\anaconda\\program\\lib\\site-packages\\pandas\\io\\parsers\\readers.py\u001b[0m in \u001b[0;36mread_csv\u001b[1;34m(filepath_or_buffer, sep, delimiter, header, names, index_col, usecols, dtype, engine, converters, true_values, false_values, skipinitialspace, skiprows, skipfooter, nrows, na_values, keep_default_na, na_filter, verbose, skip_blank_lines, parse_dates, infer_datetime_format, keep_date_col, date_parser, date_format, dayfirst, cache_dates, iterator, chunksize, compression, thousands, decimal, lineterminator, quotechar, quoting, doublequote, escapechar, comment, encoding, encoding_errors, dialect, on_bad_lines, delim_whitespace, low_memory, memory_map, float_precision, storage_options, dtype_backend)\u001b[0m\n\u001b[0;32m   1024\u001b[0m     \u001b[0mkwds\u001b[0m\u001b[1;33m.\u001b[0m\u001b[0mupdate\u001b[0m\u001b[1;33m(\u001b[0m\u001b[0mkwds_defaults\u001b[0m\u001b[1;33m)\u001b[0m\u001b[1;33m\u001b[0m\u001b[1;33m\u001b[0m\u001b[0m\n\u001b[0;32m   1025\u001b[0m \u001b[1;33m\u001b[0m\u001b[0m\n\u001b[1;32m-> 1026\u001b[1;33m     \u001b[1;32mreturn\u001b[0m \u001b[0m_read\u001b[0m\u001b[1;33m(\u001b[0m\u001b[0mfilepath_or_buffer\u001b[0m\u001b[1;33m,\u001b[0m \u001b[0mkwds\u001b[0m\u001b[1;33m)\u001b[0m\u001b[1;33m\u001b[0m\u001b[1;33m\u001b[0m\u001b[0m\n\u001b[0m\u001b[0;32m   1027\u001b[0m \u001b[1;33m\u001b[0m\u001b[0m\n\u001b[0;32m   1028\u001b[0m \u001b[1;33m\u001b[0m\u001b[0m\n",
      "\u001b[1;32mG:\\PROGRAMOWANIE\\anaconda\\program\\lib\\site-packages\\pandas\\io\\parsers\\readers.py\u001b[0m in \u001b[0;36m_read\u001b[1;34m(filepath_or_buffer, kwds)\u001b[0m\n\u001b[0;32m    618\u001b[0m \u001b[1;33m\u001b[0m\u001b[0m\n\u001b[0;32m    619\u001b[0m     \u001b[1;31m# Create the parser.\u001b[0m\u001b[1;33m\u001b[0m\u001b[1;33m\u001b[0m\u001b[0m\n\u001b[1;32m--> 620\u001b[1;33m     \u001b[0mparser\u001b[0m \u001b[1;33m=\u001b[0m \u001b[0mTextFileReader\u001b[0m\u001b[1;33m(\u001b[0m\u001b[0mfilepath_or_buffer\u001b[0m\u001b[1;33m,\u001b[0m \u001b[1;33m**\u001b[0m\u001b[0mkwds\u001b[0m\u001b[1;33m)\u001b[0m\u001b[1;33m\u001b[0m\u001b[1;33m\u001b[0m\u001b[0m\n\u001b[0m\u001b[0;32m    621\u001b[0m \u001b[1;33m\u001b[0m\u001b[0m\n\u001b[0;32m    622\u001b[0m     \u001b[1;32mif\u001b[0m \u001b[0mchunksize\u001b[0m \u001b[1;32mor\u001b[0m \u001b[0miterator\u001b[0m\u001b[1;33m:\u001b[0m\u001b[1;33m\u001b[0m\u001b[1;33m\u001b[0m\u001b[0m\n",
      "\u001b[1;32mG:\\PROGRAMOWANIE\\anaconda\\program\\lib\\site-packages\\pandas\\io\\parsers\\readers.py\u001b[0m in \u001b[0;36m__init__\u001b[1;34m(self, f, engine, **kwds)\u001b[0m\n\u001b[0;32m   1618\u001b[0m \u001b[1;33m\u001b[0m\u001b[0m\n\u001b[0;32m   1619\u001b[0m         \u001b[0mself\u001b[0m\u001b[1;33m.\u001b[0m\u001b[0mhandles\u001b[0m\u001b[1;33m:\u001b[0m \u001b[0mIOHandles\u001b[0m \u001b[1;33m|\u001b[0m \u001b[1;32mNone\u001b[0m \u001b[1;33m=\u001b[0m \u001b[1;32mNone\u001b[0m\u001b[1;33m\u001b[0m\u001b[1;33m\u001b[0m\u001b[0m\n\u001b[1;32m-> 1620\u001b[1;33m         \u001b[0mself\u001b[0m\u001b[1;33m.\u001b[0m\u001b[0m_engine\u001b[0m \u001b[1;33m=\u001b[0m \u001b[0mself\u001b[0m\u001b[1;33m.\u001b[0m\u001b[0m_make_engine\u001b[0m\u001b[1;33m(\u001b[0m\u001b[0mf\u001b[0m\u001b[1;33m,\u001b[0m \u001b[0mself\u001b[0m\u001b[1;33m.\u001b[0m\u001b[0mengine\u001b[0m\u001b[1;33m)\u001b[0m\u001b[1;33m\u001b[0m\u001b[1;33m\u001b[0m\u001b[0m\n\u001b[0m\u001b[0;32m   1621\u001b[0m \u001b[1;33m\u001b[0m\u001b[0m\n\u001b[0;32m   1622\u001b[0m     \u001b[1;32mdef\u001b[0m \u001b[0mclose\u001b[0m\u001b[1;33m(\u001b[0m\u001b[0mself\u001b[0m\u001b[1;33m)\u001b[0m \u001b[1;33m->\u001b[0m \u001b[1;32mNone\u001b[0m\u001b[1;33m:\u001b[0m\u001b[1;33m\u001b[0m\u001b[1;33m\u001b[0m\u001b[0m\n",
      "\u001b[1;32mG:\\PROGRAMOWANIE\\anaconda\\program\\lib\\site-packages\\pandas\\io\\parsers\\readers.py\u001b[0m in \u001b[0;36m_make_engine\u001b[1;34m(self, f, engine)\u001b[0m\n\u001b[0;32m   1878\u001b[0m                 \u001b[1;32mif\u001b[0m \u001b[1;34m\"b\"\u001b[0m \u001b[1;32mnot\u001b[0m \u001b[1;32min\u001b[0m \u001b[0mmode\u001b[0m\u001b[1;33m:\u001b[0m\u001b[1;33m\u001b[0m\u001b[1;33m\u001b[0m\u001b[0m\n\u001b[0;32m   1879\u001b[0m                     \u001b[0mmode\u001b[0m \u001b[1;33m+=\u001b[0m \u001b[1;34m\"b\"\u001b[0m\u001b[1;33m\u001b[0m\u001b[1;33m\u001b[0m\u001b[0m\n\u001b[1;32m-> 1880\u001b[1;33m             self.handles = get_handle(\n\u001b[0m\u001b[0;32m   1881\u001b[0m                 \u001b[0mf\u001b[0m\u001b[1;33m,\u001b[0m\u001b[1;33m\u001b[0m\u001b[1;33m\u001b[0m\u001b[0m\n\u001b[0;32m   1882\u001b[0m                 \u001b[0mmode\u001b[0m\u001b[1;33m,\u001b[0m\u001b[1;33m\u001b[0m\u001b[1;33m\u001b[0m\u001b[0m\n",
      "\u001b[1;32mG:\\PROGRAMOWANIE\\anaconda\\program\\lib\\site-packages\\pandas\\io\\common.py\u001b[0m in \u001b[0;36mget_handle\u001b[1;34m(path_or_buf, mode, encoding, compression, memory_map, is_text, errors, storage_options)\u001b[0m\n\u001b[0;32m    871\u001b[0m         \u001b[1;32mif\u001b[0m \u001b[0mioargs\u001b[0m\u001b[1;33m.\u001b[0m\u001b[0mencoding\u001b[0m \u001b[1;32mand\u001b[0m \u001b[1;34m\"b\"\u001b[0m \u001b[1;32mnot\u001b[0m \u001b[1;32min\u001b[0m \u001b[0mioargs\u001b[0m\u001b[1;33m.\u001b[0m\u001b[0mmode\u001b[0m\u001b[1;33m:\u001b[0m\u001b[1;33m\u001b[0m\u001b[1;33m\u001b[0m\u001b[0m\n\u001b[0;32m    872\u001b[0m             \u001b[1;31m# Encoding\u001b[0m\u001b[1;33m\u001b[0m\u001b[1;33m\u001b[0m\u001b[0m\n\u001b[1;32m--> 873\u001b[1;33m             handle = open(\n\u001b[0m\u001b[0;32m    874\u001b[0m                 \u001b[0mhandle\u001b[0m\u001b[1;33m,\u001b[0m\u001b[1;33m\u001b[0m\u001b[1;33m\u001b[0m\u001b[0m\n\u001b[0;32m    875\u001b[0m                 \u001b[0mioargs\u001b[0m\u001b[1;33m.\u001b[0m\u001b[0mmode\u001b[0m\u001b[1;33m,\u001b[0m\u001b[1;33m\u001b[0m\u001b[1;33m\u001b[0m\u001b[0m\n",
      "\u001b[1;31mFileNotFoundError\u001b[0m: [Errno 2] No such file or directory: 'products.csv'"
     ]
    }
   ],
   "source": [
    "#Load the data\n",
    "df_products = pd.read_csv('data/products.csv')\n",
    "df_categories = pd.read_csv('data/product_category_name_translation.csv')\n",
    "df_order_items = pd.read_csv('data/order_items.csv')\n",
    "df_orders = pd.read_csv('data/orders.csv')\n",
    "df_reviews = pd.read_csv('data/order_reviews.csv')\n",
    "df_sellers = pd.read_csv('data/sellers.csv')"
   ]
  },
  {
   "cell_type": "markdown",
   "id": "4e5d1f5c-d492-4edb-a07b-40ced840bb3d",
   "metadata": {
    "tags": []
   },
   "source": [
    "## <u>2. Correlation between review score and whether a text comment was left</u>"
   ]
  },
  {
   "cell_type": "markdown",
   "id": "89efd7dc-c011-4884-9c17-f898a0027892",
   "metadata": {},
   "source": [
    "### 2.1 Data preparation"
   ]
  },
  {
   "cell_type": "code",
   "execution_count": null,
   "id": "82f2b06d-6fb5-4eac-b583-dd6ec882b573",
   "metadata": {},
   "outputs": [],
   "source": [
    "#Initial data processing\n",
    "df_corr = df_reviews.drop(['review_id', 'review_comment_title', 'review_creation_date', 'review_answer_timestamp'], axis=1)\n",
    "df_corr['has_comment'] = df_corr['review_comment_message'].notna().astype(int)\n",
    "\n",
    "print('\\nINITIAL DATA PROCESSING TABLE')\n",
    "df_corr.head()"
   ]
  },
  {
   "cell_type": "markdown",
   "id": "a2f21ff4-a0cb-4663-ae2c-e78d5f7cfb41",
   "metadata": {},
   "source": [
    "### 2.2 Processing data and performing calculations"
   ]
  },
  {
   "cell_type": "code",
   "execution_count": null,
   "id": "62e94c59-9afe-460b-9fb8-666c0903d3a8",
   "metadata": {},
   "outputs": [],
   "source": [
    "#Aggregate data\n",
    "corr_data = (\n",
    "    df_corr\n",
    "    .groupby('review_score')['has_comment']\n",
    "    .agg(['count', 'sum'])\n",
    "    .assign(has_comment_perc=lambda x: (x['sum'] / x['count']),\n",
    "            no_comment=lambda x: x['count'] - x['sum'],\n",
    "            no_comment_perc = lambda x: (x['no_comment'] / x['count'])\n",
    "           )\n",
    "    .rename(columns={'count': 'count_all', 'sum': 'has_comment'})\n",
    "    .reset_index()\n",
    ")\n",
    "\n",
    "#Calculate the correlation\n",
    "correlation = corr_data['review_score'].corr(corr_data['has_comment_perc'])\n",
    "\n",
    "#Format percentage columns\n",
    "corr_data['has_comment_perc'] = corr_data['has_comment_perc'].apply(lambda x: f\"{x*100:.2f}%\")\n",
    "corr_data['no_comment_perc'] = corr_data['no_comment_perc'].apply(lambda x: f\"{x*100:.2f}%\")"
   ]
  },
  {
   "cell_type": "markdown",
   "id": "d3c61fbf-7d3c-4c42-b4f0-32e4273835cd",
   "metadata": {
    "tags": []
   },
   "source": [
    "### 2.3 Data visualization"
   ]
  },
  {
   "cell_type": "code",
   "execution_count": null,
   "id": "1854fbc0-29d2-484d-8942-d37856c57eea",
   "metadata": {},
   "outputs": [],
   "source": [
    "#Plotting\n",
    "fig, axes = plt.subplots(1, 2, figsize=(14, 6))\n",
    "\n",
    "#Bar plot\n",
    "corr_data[['has_comment', 'no_comment']].plot(kind='bar', stacked=False, ax=axes[0])\n",
    "axes[0].set_title('Has Comments vs No Comments by Score')\n",
    "axes[0].set_xlabel('Score')\n",
    "axes[0].set_ylabel('Count')\n",
    "\n",
    "#Stacked bar plot\n",
    "corr_data[['has_comment', 'no_comment']].plot(kind='bar', stacked=True, ax=axes[1])\n",
    "axes[1].set_title('Stacked Has Comments vs No Comments by Score')\n",
    "axes[1].set_xlabel('Score')\n",
    "axes[1].set_ylabel('Count')\n",
    "\n",
    "#Display the results\n",
    "print(f'\\nCorrelation between review_score and has_comment: {correlation:.2f}\\n')\n",
    "plt.tight_layout()\n",
    "plt.show()\n",
    "print('\\nDATA CORRELATION TABLE')\n",
    "display(corr_data.set_index('review_score'))"
   ]
  },
  {
   "cell_type": "markdown",
   "id": "a3e9167a-45ac-4094-8f58-01e1dd37d84e",
   "metadata": {},
   "source": [
    "### 2.4 Conclusions"
   ]
  },
  {
   "cell_type": "markdown",
   "id": "2ba926d3-db00-4904-8221-83453c24823c",
   "metadata": {},
   "source": [
    "It can be observed that there is a <b>strong negative correlation</b> between the review score and whether a text review was left. This means that the lower the score given by a user, the higher the chance he or she will leave a comment as well."
   ]
  },
  {
   "cell_type": "markdown",
   "id": "3ee5a91f-8448-45de-9a53-ffcf2df0c893",
   "metadata": {},
   "source": [
    "## <u>3. Products with best and worst reviews</u>"
   ]
  },
  {
   "cell_type": "markdown",
   "id": "ba18af2f-16b0-4218-8fe0-7f1c256a5f67",
   "metadata": {},
   "source": [
    "### 3.1 Data preparation"
   ]
  },
  {
   "cell_type": "code",
   "execution_count": null,
   "id": "050afc0f-8efc-42bd-8d8b-5d8bdb3aa53d",
   "metadata": {},
   "outputs": [],
   "source": [
    "#Join the dataframes\n",
    "merged_products = pd.merge(df_products, df_order_items, on='product_id')\n",
    "merged_products = pd.merge(merged_products, df_reviews, on='order_id')\n",
    "\n",
    "print('\\nMERGED TABLE')\n",
    "merged_products.head()"
   ]
  },
  {
   "cell_type": "markdown",
   "id": "d10a9310-596a-44ef-b023-4745039702c9",
   "metadata": {},
   "source": [
    "### 3.2 Data analysis and results"
   ]
  },
  {
   "cell_type": "code",
   "execution_count": null,
   "id": "17160a80-597e-4a7a-99c7-7b55de4f6d9f",
   "metadata": {},
   "outputs": [],
   "source": [
    "#Set variables \n",
    "min_scores_per_product = 50 #minumum count of scores per product to be considered\n",
    "n_display_product = 5 #number of top/bottom results displayed \n",
    "\n",
    "#Aggregate data for best and worst products\n",
    "best_products = (\n",
    "    merged_products\n",
    "    .groupby(['product_id'])\n",
    "    .agg(avg_score=('review_score', 'mean'), review_count=('review_score', 'count'))\n",
    "    .loc[lambda x: x['review_count'] >= min_scores_per_product]\n",
    "    .sort_values(by='avg_score', ascending=False)\n",
    ")\n",
    "\n",
    "worst_products = best_products.sort_values(by='avg_score', ascending=True)\n",
    "\n",
    "#Display the results\n",
    "print('\\nBEST PRODUCTS')\n",
    "display(best_products.head(n_display_product))\n",
    "print('\\nWORST PRODUCTS')\n",
    "display(worst_products.head(n_display_product))"
   ]
  },
  {
   "cell_type": "markdown",
   "id": "6389eb8c-a2e5-466c-a53b-24e02d64fa0c",
   "metadata": {},
   "source": [
    "## <u>4. Sellers with negative reviews only</u>"
   ]
  },
  {
   "cell_type": "markdown",
   "id": "93ce0a66-9fdc-467e-8be1-89a4893f58dd",
   "metadata": {},
   "source": [
    "### 4.1 Data preparation"
   ]
  },
  {
   "cell_type": "code",
   "execution_count": null,
   "id": "a519c0b7-40d1-4fb0-9326-2169f583c4f0",
   "metadata": {},
   "outputs": [],
   "source": [
    "#Join the dataframes\n",
    "merged_sellers = pd.merge(df_sellers, df_order_items, on='seller_id')\n",
    "merged_sellers = pd.merge(merged_sellers, df_reviews, on='order_id')\n",
    "\n",
    "print('\\nMERGED TABLE')\n",
    "merged_sellers.head()"
   ]
  },
  {
   "cell_type": "markdown",
   "id": "e7780519-423c-441e-991c-bfe84e407be7",
   "metadata": {},
   "source": [
    "### 4.2 Data analysis and results"
   ]
  },
  {
   "cell_type": "code",
   "execution_count": null,
   "id": "99146273-94b7-41b1-a13b-db9b3e2e2c9a",
   "metadata": {},
   "outputs": [],
   "source": [
    "#Set variables \n",
    "min_scores_per_seller = 5 #minumum count of comments per seller to be considered\n",
    "score_threshold = 2 #threshold for a score to be considered 'bad'\n",
    "\n",
    "#Get sellers who only have scores below or equal to threshold\n",
    "worst_sellers_by_threshold = (\n",
    "    merged_sellers[['seller_id', 'review_id', 'review_score']]\n",
    "    .assign(score_within_threshold=lambda x: (x['review_score'] <= score_threshold))\n",
    "    .groupby(['seller_id'])\n",
    "    .agg(avg_score=('review_score', 'mean'), all_review_count=('review_score', 'count'), scores_within_threshold_count=('score_within_threshold', 'sum'))\n",
    "    .loc[lambda x: x['all_review_count'] >= min_scores_per_seller]\n",
    "    .loc[lambda x: x['all_review_count'] == x['scores_within_threshold_count']]\n",
    "    .drop(['scores_within_threshold_count'], axis=1)\n",
    "    .sort_values(by=['avg_score', 'all_review_count'], ascending=[True, False])\n",
    ")\n",
    "\n",
    "#Display the results\n",
    "print(f'\\nSELLERS WITH AT LEAST {min_scores_per_seller} REVIEWS WITH SCORES BELOW OR EQUAL TO {score_threshold} ONLY:')\n",
    "display(worst_sellers_by_threshold)"
   ]
  },
  {
   "cell_type": "markdown",
   "id": "fafb0ebe-48d5-463e-ae2f-7c0ce64704c7",
   "metadata": {},
   "source": [
    "## <u>5. Highlighting price mentions</u>"
   ]
  },
  {
   "cell_type": "markdown",
   "id": "acbede52-9745-40b1-914b-7c8162410669",
   "metadata": {},
   "source": [
    "### 5.1 Data preparation"
   ]
  },
  {
   "cell_type": "code",
   "execution_count": null,
   "id": "dab97681-6488-4d41-81cb-06194a8bcda1",
   "metadata": {},
   "outputs": [],
   "source": [
    "#Initial data processing\n",
    "df_prices = (\n",
    "    df_reviews\n",
    "    .drop(['review_id', 'order_id', 'review_comment_title', 'review_creation_date', 'review_answer_timestamp'], axis=1)\n",
    "    .dropna()\n",
    ")\n",
    "\n",
    "print('\\nDATA TABLE')\n",
    "df_prices.head()"
   ]
  },
  {
   "cell_type": "markdown",
   "id": "09b1aec4-b5cd-4950-bb5a-f23821379e84",
   "metadata": {},
   "source": [
    "### 5.2 Data analysis and results"
   ]
  },
  {
   "cell_type": "code",
   "execution_count": null,
   "id": "e3dc1e29-b1f4-4c44-8ed7-a766cde5182d",
   "metadata": {},
   "outputs": [],
   "source": [
    "#Extract price mentions based on regular expressions\n",
    "def extract_prices(comment):\n",
    "    price_patterns = re.compile(\n",
    "    r'\\b(?:'\n",
    "    r'carp|barato'                       #Price descriptors in Portuguese\n",
    "    r'|R\\$ ?\\d+(?:,\\d+)?'                #Brazilian Real\n",
    "    r'|\\$ ?\\d+(?:,\\d+)?'                 #Dollar symbol (various countries)\n",
    "    r'|\\d+ ?(?:reais|dólares|euros|pesos|bolivianos|soles|guaraníes|dólares guyaneses|dólares surinameses|bolívares)'  #Currency names\n",
    "    r'|\\d+ ?(?:USD|EUR|BRL|ARS|BOB|CLP|COP|GYD|PYG|PEN|SRD|UYU|VES)'  #Currency codes\n",
    "    r'|AR\\$ ?\\d+(?:,\\d+)?'               #Argentine Peso\n",
    "    r'|Bs ?\\d+(?:,\\d+)?'                 #Bolivian Boliviano and Venezuelan Bolívar\n",
    "    r'|₲ ?\\d+(?:,\\d+)?'                  #Paraguayan Guarani\n",
    "    r'|S/ ?\\d+(?:,\\d+)?'                 #Peruvian Sol\n",
    "    r')\\b',\n",
    "    re.IGNORECASE\n",
    ")\n",
    "    if price_patterns.findall(comment) != []:\n",
    "        return price_patterns.findall(comment)\n",
    "    else:\n",
    "        return None\n",
    "\n",
    "df_prices['price_references'] = df_prices['review_comment_message'].apply(extract_prices)\n",
    "df_prices = df_prices.dropna()\n",
    "\n",
    "#Display the results\n",
    "pd.set_option('display.max_colwidth', None)\n",
    "print('\\nPRICE REFERENCES TABLE')\n",
    "display(df_prices.head())\n",
    "pd.reset_option"
   ]
  }
 ],
 "metadata": {
  "kernelspec": {
   "display_name": "Python 3 (ipykernel)",
   "language": "python",
   "name": "python3"
  },
  "language_info": {
   "codemirror_mode": {
    "name": "ipython",
    "version": 3
   },
   "file_extension": ".py",
   "mimetype": "text/x-python",
   "name": "python",
   "nbconvert_exporter": "python",
   "pygments_lexer": "ipython3",
   "version": "3.9.7"
  }
 },
 "nbformat": 4,
 "nbformat_minor": 5
}
